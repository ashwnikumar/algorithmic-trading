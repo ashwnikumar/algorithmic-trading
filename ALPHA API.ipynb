{
 "cells": [
  {
   "cell_type": "markdown",
   "id": "5b906f33",
   "metadata": {},
   "source": [
    "## API \n",
    "### eg alpha vantage"
   ]
  },
  {
   "cell_type": "code",
   "execution_count": 2,
   "id": "302dba5e",
   "metadata": {},
   "outputs": [],
   "source": [
    "from alpha_vantage.timeseries import TimeSeries"
   ]
  },
  {
   "cell_type": "code",
   "execution_count": 3,
   "id": "eaa59075",
   "metadata": {},
   "outputs": [],
   "source": [
    "API_key=\"H456ZLCOCHH7CH10\""
   ]
  },
  {
   "cell_type": "code",
   "execution_count": 4,
   "id": "2054439d",
   "metadata": {},
   "outputs": [],
   "source": [
    "ts=TimeSeries(key=API_key,output_format='pandas')"
   ]
  },
  {
   "cell_type": "code",
   "execution_count": 5,
   "id": "a0c9e142",
   "metadata": {},
   "outputs": [],
   "source": [
    "data=ts.get_daily('AAPL')"
   ]
  },
  {
   "cell_type": "code",
   "execution_count": 6,
   "id": "4fe71297",
   "metadata": {},
   "outputs": [
    {
     "data": {
      "text/plain": [
       "(            1. open   2. high   3. low  4. close   5. volume\n",
       " date                                                        \n",
       " 2023-07-21  194.100  194.9700  191.230    191.94  71951683.0\n",
       " 2023-07-20  195.090  196.4700  192.495    193.13  59581196.0\n",
       " 2023-07-19  193.100  198.2300  192.650    195.10  80507323.0\n",
       " 2023-07-18  193.350  194.3300  192.415    193.73  48353774.0\n",
       " 2023-07-17  191.900  194.3200  191.810    193.99  50520159.0\n",
       " ...             ...       ...      ...       ...         ...\n",
       " 2023-03-06  153.785  156.3000  153.460    153.83  87558028.0\n",
       " 2023-03-03  148.045  151.1100  147.330    151.03  70732297.0\n",
       " 2023-03-02  144.380  146.7100  143.900    145.91  52279761.0\n",
       " 2023-03-01  146.830  147.2285  145.010    145.31  55478991.0\n",
       " 2023-02-28  147.050  149.0800  146.830    147.41  50546998.0\n",
       " \n",
       " [100 rows x 5 columns],\n",
       " {'1. Information': 'Daily Prices (open, high, low, close) and Volumes',\n",
       "  '2. Symbol': 'AAPL',\n",
       "  '3. Last Refreshed': '2023-07-21',\n",
       "  '4. Output Size': 'Compact',\n",
       "  '5. Time Zone': 'US/Eastern'})"
      ]
     },
     "execution_count": 6,
     "metadata": {},
     "output_type": "execute_result"
    }
   ],
   "source": [
    "data"
   ]
  },
  {
   "cell_type": "code",
   "execution_count": 7,
   "id": "4d811c71",
   "metadata": {},
   "outputs": [
    {
     "data": {
      "text/html": [
       "<div>\n",
       "<style scoped>\n",
       "    .dataframe tbody tr th:only-of-type {\n",
       "        vertical-align: middle;\n",
       "    }\n",
       "\n",
       "    .dataframe tbody tr th {\n",
       "        vertical-align: top;\n",
       "    }\n",
       "\n",
       "    .dataframe thead th {\n",
       "        text-align: right;\n",
       "    }\n",
       "</style>\n",
       "<table border=\"1\" class=\"dataframe\">\n",
       "  <thead>\n",
       "    <tr style=\"text-align: right;\">\n",
       "      <th></th>\n",
       "      <th>1. open</th>\n",
       "      <th>2. high</th>\n",
       "      <th>3. low</th>\n",
       "      <th>4. close</th>\n",
       "      <th>5. volume</th>\n",
       "    </tr>\n",
       "    <tr>\n",
       "      <th>date</th>\n",
       "      <th></th>\n",
       "      <th></th>\n",
       "      <th></th>\n",
       "      <th></th>\n",
       "      <th></th>\n",
       "    </tr>\n",
       "  </thead>\n",
       "  <tbody>\n",
       "    <tr>\n",
       "      <th>2023-07-21</th>\n",
       "      <td>194.100</td>\n",
       "      <td>194.9700</td>\n",
       "      <td>191.230</td>\n",
       "      <td>191.94</td>\n",
       "      <td>71951683.0</td>\n",
       "    </tr>\n",
       "    <tr>\n",
       "      <th>2023-07-20</th>\n",
       "      <td>195.090</td>\n",
       "      <td>196.4700</td>\n",
       "      <td>192.495</td>\n",
       "      <td>193.13</td>\n",
       "      <td>59581196.0</td>\n",
       "    </tr>\n",
       "    <tr>\n",
       "      <th>2023-07-19</th>\n",
       "      <td>193.100</td>\n",
       "      <td>198.2300</td>\n",
       "      <td>192.650</td>\n",
       "      <td>195.10</td>\n",
       "      <td>80507323.0</td>\n",
       "    </tr>\n",
       "    <tr>\n",
       "      <th>2023-07-18</th>\n",
       "      <td>193.350</td>\n",
       "      <td>194.3300</td>\n",
       "      <td>192.415</td>\n",
       "      <td>193.73</td>\n",
       "      <td>48353774.0</td>\n",
       "    </tr>\n",
       "    <tr>\n",
       "      <th>2023-07-17</th>\n",
       "      <td>191.900</td>\n",
       "      <td>194.3200</td>\n",
       "      <td>191.810</td>\n",
       "      <td>193.99</td>\n",
       "      <td>50520159.0</td>\n",
       "    </tr>\n",
       "    <tr>\n",
       "      <th>...</th>\n",
       "      <td>...</td>\n",
       "      <td>...</td>\n",
       "      <td>...</td>\n",
       "      <td>...</td>\n",
       "      <td>...</td>\n",
       "    </tr>\n",
       "    <tr>\n",
       "      <th>2023-03-06</th>\n",
       "      <td>153.785</td>\n",
       "      <td>156.3000</td>\n",
       "      <td>153.460</td>\n",
       "      <td>153.83</td>\n",
       "      <td>87558028.0</td>\n",
       "    </tr>\n",
       "    <tr>\n",
       "      <th>2023-03-03</th>\n",
       "      <td>148.045</td>\n",
       "      <td>151.1100</td>\n",
       "      <td>147.330</td>\n",
       "      <td>151.03</td>\n",
       "      <td>70732297.0</td>\n",
       "    </tr>\n",
       "    <tr>\n",
       "      <th>2023-03-02</th>\n",
       "      <td>144.380</td>\n",
       "      <td>146.7100</td>\n",
       "      <td>143.900</td>\n",
       "      <td>145.91</td>\n",
       "      <td>52279761.0</td>\n",
       "    </tr>\n",
       "    <tr>\n",
       "      <th>2023-03-01</th>\n",
       "      <td>146.830</td>\n",
       "      <td>147.2285</td>\n",
       "      <td>145.010</td>\n",
       "      <td>145.31</td>\n",
       "      <td>55478991.0</td>\n",
       "    </tr>\n",
       "    <tr>\n",
       "      <th>2023-02-28</th>\n",
       "      <td>147.050</td>\n",
       "      <td>149.0800</td>\n",
       "      <td>146.830</td>\n",
       "      <td>147.41</td>\n",
       "      <td>50546998.0</td>\n",
       "    </tr>\n",
       "  </tbody>\n",
       "</table>\n",
       "<p>100 rows × 5 columns</p>\n",
       "</div>"
      ],
      "text/plain": [
       "            1. open   2. high   3. low  4. close   5. volume\n",
       "date                                                        \n",
       "2023-07-21  194.100  194.9700  191.230    191.94  71951683.0\n",
       "2023-07-20  195.090  196.4700  192.495    193.13  59581196.0\n",
       "2023-07-19  193.100  198.2300  192.650    195.10  80507323.0\n",
       "2023-07-18  193.350  194.3300  192.415    193.73  48353774.0\n",
       "2023-07-17  191.900  194.3200  191.810    193.99  50520159.0\n",
       "...             ...       ...      ...       ...         ...\n",
       "2023-03-06  153.785  156.3000  153.460    153.83  87558028.0\n",
       "2023-03-03  148.045  151.1100  147.330    151.03  70732297.0\n",
       "2023-03-02  144.380  146.7100  143.900    145.91  52279761.0\n",
       "2023-03-01  146.830  147.2285  145.010    145.31  55478991.0\n",
       "2023-02-28  147.050  149.0800  146.830    147.41  50546998.0\n",
       "\n",
       "[100 rows x 5 columns]"
      ]
     },
     "execution_count": 7,
     "metadata": {},
     "output_type": "execute_result"
    }
   ],
   "source": [
    "data[0]"
   ]
  },
  {
   "cell_type": "code",
   "execution_count": 8,
   "id": "c52d8653",
   "metadata": {},
   "outputs": [],
   "source": [
    "data2=data[0]"
   ]
  },
  {
   "cell_type": "code",
   "execution_count": 9,
   "id": "a8cfc04c",
   "metadata": {},
   "outputs": [
    {
     "data": {
      "text/plain": [
       "Index(['1. open', '2. high', '3. low', '4. close', '5. volume'], dtype='object')"
      ]
     },
     "execution_count": 9,
     "metadata": {},
     "output_type": "execute_result"
    }
   ],
   "source": [
    "data2.columns"
   ]
  },
  {
   "cell_type": "code",
   "execution_count": 10,
   "id": "fdc93f46",
   "metadata": {},
   "outputs": [
    {
     "data": {
      "text/html": [
       "<div>\n",
       "<style scoped>\n",
       "    .dataframe tbody tr th:only-of-type {\n",
       "        vertical-align: middle;\n",
       "    }\n",
       "\n",
       "    .dataframe tbody tr th {\n",
       "        vertical-align: top;\n",
       "    }\n",
       "\n",
       "    .dataframe thead th {\n",
       "        text-align: right;\n",
       "    }\n",
       "</style>\n",
       "<table border=\"1\" class=\"dataframe\">\n",
       "  <thead>\n",
       "    <tr style=\"text-align: right;\">\n",
       "      <th></th>\n",
       "      <th>4. close</th>\n",
       "    </tr>\n",
       "    <tr>\n",
       "      <th>date</th>\n",
       "      <th></th>\n",
       "    </tr>\n",
       "  </thead>\n",
       "  <tbody>\n",
       "    <tr>\n",
       "      <th>2023-07-21</th>\n",
       "      <td>191.94</td>\n",
       "    </tr>\n",
       "    <tr>\n",
       "      <th>2023-07-20</th>\n",
       "      <td>193.13</td>\n",
       "    </tr>\n",
       "    <tr>\n",
       "      <th>2023-07-19</th>\n",
       "      <td>195.10</td>\n",
       "    </tr>\n",
       "    <tr>\n",
       "      <th>2023-07-18</th>\n",
       "      <td>193.73</td>\n",
       "    </tr>\n",
       "    <tr>\n",
       "      <th>2023-07-17</th>\n",
       "      <td>193.99</td>\n",
       "    </tr>\n",
       "    <tr>\n",
       "      <th>...</th>\n",
       "      <td>...</td>\n",
       "    </tr>\n",
       "    <tr>\n",
       "      <th>2023-03-06</th>\n",
       "      <td>153.83</td>\n",
       "    </tr>\n",
       "    <tr>\n",
       "      <th>2023-03-03</th>\n",
       "      <td>151.03</td>\n",
       "    </tr>\n",
       "    <tr>\n",
       "      <th>2023-03-02</th>\n",
       "      <td>145.91</td>\n",
       "    </tr>\n",
       "    <tr>\n",
       "      <th>2023-03-01</th>\n",
       "      <td>145.31</td>\n",
       "    </tr>\n",
       "    <tr>\n",
       "      <th>2023-02-28</th>\n",
       "      <td>147.41</td>\n",
       "    </tr>\n",
       "  </tbody>\n",
       "</table>\n",
       "<p>100 rows × 1 columns</p>\n",
       "</div>"
      ],
      "text/plain": [
       "            4. close\n",
       "date                \n",
       "2023-07-21    191.94\n",
       "2023-07-20    193.13\n",
       "2023-07-19    195.10\n",
       "2023-07-18    193.73\n",
       "2023-07-17    193.99\n",
       "...              ...\n",
       "2023-03-06    153.83\n",
       "2023-03-03    151.03\n",
       "2023-03-02    145.91\n",
       "2023-03-01    145.31\n",
       "2023-02-28    147.41\n",
       "\n",
       "[100 rows x 1 columns]"
      ]
     },
     "execution_count": 10,
     "metadata": {},
     "output_type": "execute_result"
    }
   ],
   "source": [
    "data2[\"4. close\"].to_frame()"
   ]
  },
  {
   "cell_type": "code",
   "execution_count": null,
   "id": "e6aefa9f",
   "metadata": {},
   "outputs": [],
   "source": []
  }
 ],
 "metadata": {
  "kernelspec": {
   "display_name": "Python 3 (ipykernel)",
   "language": "python",
   "name": "python3"
  },
  "language_info": {
   "codemirror_mode": {
    "name": "ipython",
    "version": 3
   },
   "file_extension": ".py",
   "mimetype": "text/x-python",
   "name": "python",
   "nbconvert_exporter": "python",
   "pygments_lexer": "ipython3",
   "version": "3.10.6"
  }
 },
 "nbformat": 4,
 "nbformat_minor": 5
}
